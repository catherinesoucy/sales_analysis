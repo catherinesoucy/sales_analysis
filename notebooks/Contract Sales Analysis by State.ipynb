{
 "cells": [
  {
   "cell_type": "code",
   "execution_count": 3,
   "metadata": {
    "scrolled": true
   },
   "outputs": [],
   "source": [
    "import pandas as pd\n",
    "customers = pd.read_csv (r'C:\\Users\\firne\\bip-python-unh\\sales_analysis\\data\\customers.csv')\n",
    "contracts = pd.read_csv (r'C:\\Users\\firne\\bip-python-unh\\sales_analysis\\data\\contracts.csv')\n",
    "customers.rename(columns={'id':'customer_id'}, inplace=True)"
   ]
  },
  {
   "cell_type": "code",
   "execution_count": 4,
   "metadata": {},
   "outputs": [],
   "source": [
    "customers.set_index('customer_id', inplace=True)\n",
    "contracts.set_index('customer_id', inplace=True)\n",
    "sales_data = contracts.join(customers, how='left')"
   ]
  },
  {
   "cell_type": "code",
   "execution_count": 5,
   "metadata": {},
   "outputs": [],
   "source": [
    "sales_data[\"deposit\"] = sales_data[\"deposit\"].replace('[\\$\\,\\.]',\"\",regex=True).astype(int)\n",
    "sales_data[\"monthly_amt\"] = sales_data[\"monthly_amt\"].replace('[\\$\\,\\.]',\"\",regex=True).astype(int)\n",
    "sales_data['contract_term'] = sales_data['contract_term'].astype(int)"
   ]
  },
  {
   "cell_type": "code",
   "execution_count": 6,
   "metadata": {},
   "outputs": [],
   "source": [
    "sales_data['deposit'] = pd.to_numeric(sales_data.deposit)"
   ]
  },
  {
   "cell_type": "code",
   "execution_count": 7,
   "metadata": {},
   "outputs": [],
   "source": [
    "sales_data.groupby(['state'])\n",
    "monthly = sales_data['contract_term']*sales_data['monthly_amt']\n",
    "sales_data['total_sales'] = monthly"
   ]
  },
  {
   "cell_type": "code",
   "execution_count": 8,
   "metadata": {},
   "outputs": [
    {
     "data": {
      "text/plain": [
       "state\n",
       "KS     844340000\n",
       "WA    1029360000\n",
       "FL    1370310000\n",
       "CA    1759500000\n",
       "TX    1858820000\n",
       "Name: total_sales, dtype: int32"
      ]
     },
     "execution_count": 8,
     "metadata": {},
     "output_type": "execute_result"
    }
   ],
   "source": [
    "state_sales = sales_data.groupby(['state']).sum(['total_sales'])\n",
    "state_sales.sort_values(['total_sales'], ascending=True, inplace=True)\n",
    "state_sales['total_sales'].tail(5)"
   ]
  },
  {
   "cell_type": "code",
   "execution_count": 9,
   "metadata": {},
   "outputs": [
    {
     "data": {
      "text/plain": [
       "state\n",
       "WA     9\n",
       "NY    11\n",
       "FL    15\n",
       "CA    17\n",
       "TX    21\n",
       "Name: company, dtype: int64"
      ]
     },
     "execution_count": 9,
     "metadata": {},
     "output_type": "execute_result"
    }
   ],
   "source": [
    "unique_customers = sales_data.groupby(['state']).nunique(['company'])\n",
    "unique_customers.sort_values(['company'], ascending=True, inplace=True)\n",
    "unique_customers['company'].tail(5)"
   ]
  },
  {
   "cell_type": "code",
   "execution_count": 10,
   "metadata": {},
   "outputs": [
    {
     "data": {
      "text/plain": [
       "state\n",
       "NY     43\n",
       "WA     54\n",
       "FL     70\n",
       "CA     88\n",
       "TX    104\n",
       "Name: total_sales, dtype: int64"
      ]
     },
     "execution_count": 10,
     "metadata": {},
     "output_type": "execute_result"
    }
   ],
   "source": [
    "number_sales = sales_data.groupby(['state']).agg('count')\n",
    "number_sales.sort_values(['total_sales'], ascending=True, inplace=True)\n",
    "number_sales['total_sales'].tail(5)"
   ]
  },
  {
   "cell_type": "markdown",
   "metadata": {},
   "source": [
    "Looking at the data presented above, I would advise the new headquarters be built in Texas. A large part of the company's business is done here, and it is roughly the same distance from California and Florida, the next top states. Texas is the best option because it had the highest total sales, most clients, and the highest number of overall sales. Being in this position will allow to company to garner close relationships with the clients that are close by, enhancing the sales figures from Texas. From there, it is possible that other locations could be built on the west coast to cover California and Washington, and east coast to help with Florida and New York."
   ]
  }
 ],
 "metadata": {
  "kernelspec": {
   "display_name": "Python 3",
   "language": "python",
   "name": "python3"
  },
  "language_info": {
   "codemirror_mode": {
    "name": "ipython",
    "version": 3
   },
   "file_extension": ".py",
   "mimetype": "text/x-python",
   "name": "python",
   "nbconvert_exporter": "python",
   "pygments_lexer": "ipython3",
   "version": "3.8.5"
  },
  "widgets": {
   "application/vnd.jupyter.widget-state+json": {
    "state": {},
    "version_major": 2,
    "version_minor": 0
   }
  }
 },
 "nbformat": 4,
 "nbformat_minor": 4
}
